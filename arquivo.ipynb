{
 "cells": [
  {
   "cell_type": "markdown",
   "metadata": {},
   "source": [
    "### Aplicando Reducao de dimensionalidade"
   ]
  },
  {
   "cell_type": "markdown",
   "metadata": {},
   "source": [
    "## proposta \n",
    "Descrição do Desafio\n",
    "Seguindo o exemplo do algoritmo de binarização apresentado em nossa última aula, realize a implementação em Python para transformar uma imagem colorida para níveis de cinza (0 a 255) e para binarizada (0 e 255), preto e branco.  \n",
    "\n",
    " \n",
    "\n",
    "Por meio da imagem é possível visualizar os dois casos esperados: "
   ]
  },
  {
   "cell_type": "code",
   "execution_count": 1,
   "metadata": {},
   "outputs": [
    {
     "name": "stdout",
     "output_type": "stream",
     "text": [
      "Requirement already satisfied: opencv-python in c:\\users\\marce\\appdata\\local\\programs\\python\\python311\\lib\\site-packages (4.8.0.76)\n",
      "Requirement already satisfied: numpy>=1.21.2 in c:\\users\\marce\\appdata\\local\\programs\\python\\python311\\lib\\site-packages (from opencv-python) (1.26.4)\n"
     ]
    },
    {
     "name": "stderr",
     "output_type": "stream",
     "text": [
      "\n",
      "[notice] A new release of pip is available: 24.0 -> 25.0.1\n",
      "[notice] To update, run: C:\\Users\\marce\\AppData\\Local\\Programs\\Python\\Python311\\python.exe -m pip install --upgrade pip\n"
     ]
    }
   ],
   "source": [
    "!pip install opencv-python"
   ]
  },
  {
   "cell_type": "code",
   "execution_count": null,
   "metadata": {},
   "outputs": [],
   "source": [
    "from PIL import Image\n",
    "\n",
    "# Abrir a imagem (certifique-se de que ela está na mesma pasta do script)\n",
    "imagem = Image.open(\"teste01.png\")  \n",
    "\n",
    "# Converter para tons de cinza\n",
    "imagem_cinza = imagem.convert(\"L\")  # \"L\" = grayscale\n",
    "\n",
    "# Binarizar: cada pixel < 127 vira 0 (preto), >= 127 vira 255 (branco)\n",
    "limiar = 127\n",
    "imagem_binarizada = imagem_cinza.point(lambda p: 255 if p > limiar else 0)\n",
    "\n",
    "# Mostrar as imagens\n",
    "imagem_cinza.show(title=\"Tons de Cinza\")\n",
    "imagem_binarizada.show(title=\"Imagem Binarizada\")\n",
    "\n",
    "# Salvar se quiser\n",
    "imagem_cinza.save(\"imagem_cinza.jpg\")\n",
    "imagem_binarizada.save(\"imagem_binarizada.jpg\")\n"
   ]
  },
  {
   "cell_type": "code",
   "execution_count": 11,
   "metadata": {},
   "outputs": [],
   "source": [
    "from PIL import Image\n",
    "\n",
    "# Abrir a imagem original colorida\n",
    "imagem_colorida = Image.open(\"teste01.png\")\n",
    "\n",
    "# Mostrar a imagem colorida\n",
    "imagem_colorida.show(title=\"Imagem Colorida\")\n"
   ]
  },
  {
   "cell_type": "code",
   "execution_count": 13,
   "metadata": {},
   "outputs": [],
   "source": [
    "imagem_colorida.save(\"imagem_colorida_copia.png\")"
   ]
  }
 ],
 "metadata": {
  "kernelspec": {
   "display_name": "Python 3",
   "language": "python",
   "name": "python3"
  },
  "language_info": {
   "codemirror_mode": {
    "name": "ipython",
    "version": 3
   },
   "file_extension": ".py",
   "mimetype": "text/x-python",
   "name": "python",
   "nbconvert_exporter": "python",
   "pygments_lexer": "ipython3",
   "version": "3.12.1"
  }
 },
 "nbformat": 4,
 "nbformat_minor": 2
}
